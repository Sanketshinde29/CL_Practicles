{
 "cells": [
  {
   "cell_type": "code",
   "execution_count": 11,
   "id": "83b91e85-48f8-4204-951f-b40931bf90ec",
   "metadata": {},
   "outputs": [],
   "source": [
    "import pandas as pd\n",
    "import matplotlib.pyplot as plt\n",
    "import seaborn as sns\n"
   ]
  },
  {
   "cell_type": "code",
   "execution_count": 13,
   "id": "6b3fab7f-17f0-4a5d-bd6f-f92fc3b5ca39",
   "metadata": {},
   "outputs": [],
   "source": [
    "df=pd.read_csv(\"C:/Users/sanke/OneDrive/Documents/Superstore_2023.csv\")"
   ]
  },
  {
   "cell_type": "code",
   "execution_count": 15,
   "id": "09290d8c-72d9-4676-aae5-4ea7e3d6d063",
   "metadata": {},
   "outputs": [
    {
     "data": {
      "text/html": [
       "<div>\n",
       "<style scoped>\n",
       "    .dataframe tbody tr th:only-of-type {\n",
       "        vertical-align: middle;\n",
       "    }\n",
       "\n",
       "    .dataframe tbody tr th {\n",
       "        vertical-align: top;\n",
       "    }\n",
       "\n",
       "    .dataframe thead th {\n",
       "        text-align: right;\n",
       "    }\n",
       "</style>\n",
       "<table border=\"1\" class=\"dataframe\">\n",
       "  <thead>\n",
       "    <tr style=\"text-align: right;\">\n",
       "      <th></th>\n",
       "      <th>Category</th>\n",
       "      <th>City</th>\n",
       "      <th>Country/Region</th>\n",
       "      <th>Customer ID</th>\n",
       "      <th>Customer Name</th>\n",
       "      <th>Order Date</th>\n",
       "      <th>Order ID</th>\n",
       "      <th>Order Profitable?</th>\n",
       "      <th>Postal Code</th>\n",
       "      <th>Product ID</th>\n",
       "      <th>...</th>\n",
       "      <th>Ship Status</th>\n",
       "      <th>State</th>\n",
       "      <th>Sub-Category</th>\n",
       "      <th>Days to Ship Actual</th>\n",
       "      <th>Days to Ship Scheduled</th>\n",
       "      <th>Discount</th>\n",
       "      <th>Profit</th>\n",
       "      <th>Quantity</th>\n",
       "      <th>Sales</th>\n",
       "      <th>Sales Forecast</th>\n",
       "    </tr>\n",
       "  </thead>\n",
       "  <tbody>\n",
       "    <tr>\n",
       "      <th>0</th>\n",
       "      <td>Furniture</td>\n",
       "      <td>Henderson</td>\n",
       "      <td>United States</td>\n",
       "      <td>CG-12520</td>\n",
       "      <td>Claire Gute</td>\n",
       "      <td>08-11-2021</td>\n",
       "      <td>CA-2021-152156</td>\n",
       "      <td>Profitable</td>\n",
       "      <td>42420.0</td>\n",
       "      <td>FUR-BO-10001798</td>\n",
       "      <td>...</td>\n",
       "      <td>Shipped On Time</td>\n",
       "      <td>Kentucky</td>\n",
       "      <td>Bookcases</td>\n",
       "      <td>3</td>\n",
       "      <td>3</td>\n",
       "      <td>0.00%</td>\n",
       "      <td>42</td>\n",
       "      <td>2</td>\n",
       "      <td>262</td>\n",
       "      <td>392</td>\n",
       "    </tr>\n",
       "    <tr>\n",
       "      <th>1</th>\n",
       "      <td>Furniture</td>\n",
       "      <td>Henderson</td>\n",
       "      <td>United States</td>\n",
       "      <td>CG-12520</td>\n",
       "      <td>Claire Gute</td>\n",
       "      <td>08-11-2021</td>\n",
       "      <td>CA-2021-152156</td>\n",
       "      <td>Profitable</td>\n",
       "      <td>42420.0</td>\n",
       "      <td>FUR-CH-10000454</td>\n",
       "      <td>...</td>\n",
       "      <td>Shipped On Time</td>\n",
       "      <td>Kentucky</td>\n",
       "      <td>Chairs</td>\n",
       "      <td>3</td>\n",
       "      <td>3</td>\n",
       "      <td>0.00%</td>\n",
       "      <td>220</td>\n",
       "      <td>3</td>\n",
       "      <td>732</td>\n",
       "      <td>1096</td>\n",
       "    </tr>\n",
       "    <tr>\n",
       "      <th>2</th>\n",
       "      <td>Office Supplies</td>\n",
       "      <td>Los Angeles</td>\n",
       "      <td>United States</td>\n",
       "      <td>DV-13045</td>\n",
       "      <td>Darrin Van Huff</td>\n",
       "      <td>12-06-2021</td>\n",
       "      <td>CA-2021-138688</td>\n",
       "      <td>Profitable</td>\n",
       "      <td>90036.0</td>\n",
       "      <td>OFF-LA-10000240</td>\n",
       "      <td>...</td>\n",
       "      <td>Shipped Late</td>\n",
       "      <td>California</td>\n",
       "      <td>Labels</td>\n",
       "      <td>4</td>\n",
       "      <td>3</td>\n",
       "      <td>0.00%</td>\n",
       "      <td>7</td>\n",
       "      <td>2</td>\n",
       "      <td>15</td>\n",
       "      <td>22</td>\n",
       "    </tr>\n",
       "    <tr>\n",
       "      <th>3</th>\n",
       "      <td>Furniture</td>\n",
       "      <td>Fort Lauderdale</td>\n",
       "      <td>United States</td>\n",
       "      <td>SO-20335</td>\n",
       "      <td>Sean O'Donnell</td>\n",
       "      <td>11-10-2020</td>\n",
       "      <td>US-2020-108966</td>\n",
       "      <td>Unprofitable</td>\n",
       "      <td>33311.0</td>\n",
       "      <td>FUR-TA-10000577</td>\n",
       "      <td>...</td>\n",
       "      <td>Shipped Late</td>\n",
       "      <td>Florida</td>\n",
       "      <td>Tables</td>\n",
       "      <td>7</td>\n",
       "      <td>6</td>\n",
       "      <td>45.00%</td>\n",
       "      <td>-383</td>\n",
       "      <td>5</td>\n",
       "      <td>958</td>\n",
       "      <td>1434</td>\n",
       "    </tr>\n",
       "    <tr>\n",
       "      <th>4</th>\n",
       "      <td>Office Supplies</td>\n",
       "      <td>Fort Lauderdale</td>\n",
       "      <td>United States</td>\n",
       "      <td>SO-20335</td>\n",
       "      <td>Sean O'Donnell</td>\n",
       "      <td>11-10-2020</td>\n",
       "      <td>US-2020-108966</td>\n",
       "      <td>Unprofitable</td>\n",
       "      <td>33311.0</td>\n",
       "      <td>OFF-ST-10000760</td>\n",
       "      <td>...</td>\n",
       "      <td>Shipped Late</td>\n",
       "      <td>Florida</td>\n",
       "      <td>Storage</td>\n",
       "      <td>7</td>\n",
       "      <td>6</td>\n",
       "      <td>20.00%</td>\n",
       "      <td>3</td>\n",
       "      <td>2</td>\n",
       "      <td>22</td>\n",
       "      <td>33</td>\n",
       "    </tr>\n",
       "  </tbody>\n",
       "</table>\n",
       "<p>5 rows × 26 columns</p>\n",
       "</div>"
      ],
      "text/plain": [
       "          Category             City Country/Region Customer ID  \\\n",
       "0        Furniture        Henderson  United States    CG-12520   \n",
       "1        Furniture        Henderson  United States    CG-12520   \n",
       "2  Office Supplies      Los Angeles  United States    DV-13045   \n",
       "3        Furniture  Fort Lauderdale  United States    SO-20335   \n",
       "4  Office Supplies  Fort Lauderdale  United States    SO-20335   \n",
       "\n",
       "     Customer Name  Order Date        Order ID Order Profitable?  Postal Code  \\\n",
       "0      Claire Gute  08-11-2021  CA-2021-152156        Profitable      42420.0   \n",
       "1      Claire Gute  08-11-2021  CA-2021-152156        Profitable      42420.0   \n",
       "2  Darrin Van Huff  12-06-2021  CA-2021-138688        Profitable      90036.0   \n",
       "3   Sean O'Donnell  11-10-2020  US-2020-108966      Unprofitable      33311.0   \n",
       "4   Sean O'Donnell  11-10-2020  US-2020-108966      Unprofitable      33311.0   \n",
       "\n",
       "        Product ID  ...      Ship Status       State  Sub-Category  \\\n",
       "0  FUR-BO-10001798  ...  Shipped On Time    Kentucky     Bookcases   \n",
       "1  FUR-CH-10000454  ...  Shipped On Time    Kentucky        Chairs   \n",
       "2  OFF-LA-10000240  ...     Shipped Late  California        Labels   \n",
       "3  FUR-TA-10000577  ...     Shipped Late     Florida        Tables   \n",
       "4  OFF-ST-10000760  ...     Shipped Late     Florida       Storage   \n",
       "\n",
       "  Days to Ship Actual Days to Ship Scheduled Discount Profit Quantity Sales  \\\n",
       "0                   3                      3    0.00%     42        2   262   \n",
       "1                   3                      3    0.00%    220        3   732   \n",
       "2                   4                      3    0.00%      7        2    15   \n",
       "3                   7                      6   45.00%   -383        5   958   \n",
       "4                   7                      6   20.00%      3        2    22   \n",
       "\n",
       "   Sales Forecast  \n",
       "0             392  \n",
       "1            1096  \n",
       "2              22  \n",
       "3            1434  \n",
       "4              33  \n",
       "\n",
       "[5 rows x 26 columns]"
      ]
     },
     "execution_count": 15,
     "metadata": {},
     "output_type": "execute_result"
    }
   ],
   "source": [
    "df.head()"
   ]
  },
  {
   "cell_type": "code",
   "execution_count": 17,
   "id": "789c250f-99d6-4b74-a823-6eb7e188c3a7",
   "metadata": {},
   "outputs": [
    {
     "name": "stdout",
     "output_type": "stream",
     "text": [
      "<class 'pandas.core.frame.DataFrame'>\n",
      "RangeIndex: 9994 entries, 0 to 9993\n",
      "Data columns (total 26 columns):\n",
      " #   Column                  Non-Null Count  Dtype  \n",
      "---  ------                  --------------  -----  \n",
      " 0   Category                9994 non-null   object \n",
      " 1   City                    9994 non-null   object \n",
      " 2   Country/Region          9994 non-null   object \n",
      " 3   Customer ID             9994 non-null   object \n",
      " 4   Customer Name           9994 non-null   object \n",
      " 5   Order Date              9994 non-null   object \n",
      " 6   Order ID                9994 non-null   object \n",
      " 7   Order Profitable?       9994 non-null   object \n",
      " 8   Postal Code             9983 non-null   float64\n",
      " 9   Product ID              9994 non-null   object \n",
      " 10  Product Name            9994 non-null   object \n",
      " 11  Region                  9994 non-null   object \n",
      " 12  Row ID                  9994 non-null   int64  \n",
      " 13  Segment                 9994 non-null   object \n",
      " 14  Ship Date               9994 non-null   object \n",
      " 15  Ship Mode               9994 non-null   object \n",
      " 16  Ship Status             9994 non-null   object \n",
      " 17  State                   9994 non-null   object \n",
      " 18  Sub-Category            9994 non-null   object \n",
      " 19  Days to Ship Actual     9994 non-null   int64  \n",
      " 20  Days to Ship Scheduled  9994 non-null   int64  \n",
      " 21  Discount                9994 non-null   object \n",
      " 22  Profit                  9994 non-null   int64  \n",
      " 23  Quantity                9994 non-null   int64  \n",
      " 24  Sales                   9994 non-null   int64  \n",
      " 25  Sales Forecast          9994 non-null   int64  \n",
      "dtypes: float64(1), int64(7), object(18)\n",
      "memory usage: 2.0+ MB\n"
     ]
    }
   ],
   "source": [
    "df.info()"
   ]
  },
  {
   "cell_type": "code",
   "execution_count": 19,
   "id": "0b6a16e3-4ab8-4f3b-b0c5-bec603d6b696",
   "metadata": {},
   "outputs": [],
   "source": [
    "## Data Cleaning"
   ]
  },
  {
   "cell_type": "code",
   "execution_count": 21,
   "id": "15e4dc30-28cd-4faf-9463-8eb3d82231fe",
   "metadata": {},
   "outputs": [
    {
     "name": "stderr",
     "output_type": "stream",
     "text": [
      "C:\\Users\\sanke\\AppData\\Local\\Temp\\ipykernel_19996\\1887570800.py:6: FutureWarning: A value is trying to be set on a copy of a DataFrame or Series through chained assignment using an inplace method.\n",
      "The behavior will change in pandas 3.0. This inplace method will never work because the intermediate object on which we are setting values always behaves as a copy.\n",
      "\n",
      "For example, when doing 'df[col].method(value, inplace=True)', try using 'df.method({col: value}, inplace=True)' or df[col] = df[col].method(value) instead, to perform the operation inplace on the original object.\n",
      "\n",
      "\n",
      "  df['Postal Code'].fillna(0, inplace=True)\n"
     ]
    }
   ],
   "source": [
    "# Convert 'Order Date' and 'Ship Date' to datetime\n",
    "df['Order Date'] = pd.to_datetime(df['Order Date'], errors='coerce')\n",
    "df['Ship Date'] = pd.to_datetime(df['Ship Date'], errors='coerce')\n",
    "\n",
    "# Handle missing postal codes (optional)\n",
    "df['Postal Code'].fillna(0, inplace=True)\n",
    "\n",
    "# Remove duplicates\n",
    "df.drop_duplicates(inplace=True)\n",
    "\n",
    "# Convert Discount column to numeric (if needed)\n",
    "df['Discount'] = df['Discount'].replace('%','', regex=True).astype(float, errors='ignore')\n"
   ]
  },
  {
   "cell_type": "code",
   "execution_count": 23,
   "id": "37cbfb92-ef2d-403f-994e-d724c705ae7b",
   "metadata": {},
   "outputs": [],
   "source": [
    "## Data Aggregration"
   ]
  },
  {
   "cell_type": "code",
   "execution_count": 25,
   "id": "59fa010f-207d-4510-8215-8f609b3c990e",
   "metadata": {},
   "outputs": [
    {
     "name": "stdout",
     "output_type": "stream",
     "text": [
      "          Sales  Profit\n",
      "Region                 \n",
      "West     725514  108386\n",
      "East     678834   91521\n",
      "Central  501256   39719\n",
      "South    391750   46721\n"
     ]
    }
   ],
   "source": [
    "# Group by Region and sum up Sales and Profit\n",
    "region_sales = df.groupby('Region')[['Sales', 'Profit']].sum().sort_values(by='Sales', ascending=False)\n",
    "\n",
    "print(region_sales)\n"
   ]
  },
  {
   "cell_type": "code",
   "execution_count": 27,
   "id": "e8bfafcf-3a11-43e3-8c02-2442ff5edd2e",
   "metadata": {},
   "outputs": [],
   "source": [
    "## Visualize sales by region"
   ]
  },
  {
   "cell_type": "code",
   "execution_count": 29,
   "id": "ba78053e-db91-43f3-86b1-06be56d21c36",
   "metadata": {},
   "outputs": [
    {
     "name": "stderr",
     "output_type": "stream",
     "text": [
      "C:\\Users\\sanke\\AppData\\Local\\Temp\\ipykernel_19996\\2270146795.py:2: FutureWarning: \n",
      "\n",
      "Passing `palette` without assigning `hue` is deprecated and will be removed in v0.14.0. Assign the `x` variable to `hue` and set `legend=False` for the same effect.\n",
      "\n",
      "  sns.barplot(x=region_sales.index, y=region_sales['Sales'], palette='viridis')\n"
     ]
    },
    {
     "data": {
      "image/png": "[encoded data removed]",
      "text/plain": [
       "<Figure size 1000x500 with 1 Axes>"
      ]
     },
     "metadata": {},
     "output_type": "display_data"
    }
   ],
   "source": [
    "plt.figure(figsize=(10,5))\n",
    "sns.barplot(x=region_sales.index, y=region_sales['Sales'], palette='viridis')\n",
    "plt.title(\"Total Sales by Region\")\n",
    "plt.xlabel(\"Region\")\n",
    "plt.ylabel(\"Total Sales\")\n",
    "plt.xticks(rotation=45)\n",
    "plt.show()\n"
   ]
  },
  {
   "cell_type": "code",
   "execution_count": 31,
   "id": "ed48807c-ec61-443b-9173-e9e243ecb7c5",
   "metadata": {},
   "outputs": [],
   "source": [
    "## Data Aggregration- sales by category"
   ]
  },
  {
   "cell_type": "code",
   "execution_count": 33,
   "id": "27f167d4-c2b6-4650-8489-6bd5db188e8a",
   "metadata": {},
   "outputs": [
    {
     "name": "stdout",
     "output_type": "stream",
     "text": [
      "                  Sales  Profit\n",
      "Category                       \n",
      "Technology       836221  145429\n",
      "Furniture        742006   18444\n",
      "Office Supplies  719127  122474\n"
     ]
    }
   ],
   "source": [
    "# Group by Product Category\n",
    "category_sales = df.groupby('Category')[['Sales', 'Profit']].sum().sort_values(by='Sales', ascending=False)\n",
    "print(category_sales)\n"
   ]
  },
  {
   "cell_type": "code",
   "execution_count": 35,
   "id": "fd598686-c7a8-4bf8-9eea-70953a703745",
   "metadata": {},
   "outputs": [],
   "source": [
    "## Visualize sales by product category"
   ]
  },
  {
   "cell_type": "code",
   "execution_count": 37,
   "id": "10111afa-976b-44f7-b2ec-66e6c9cd1f04",
   "metadata": {},
   "outputs": [
    {
     "name": "stderr",
     "output_type": "stream",
     "text": [
      "C:\\Users\\sanke\\AppData\\Local\\Temp\\ipykernel_19996\\3195266276.py:2: FutureWarning: \n",
      "\n",
      "Passing `palette` without assigning `hue` is deprecated and will be removed in v0.14.0. Assign the `x` variable to `hue` and set `legend=False` for the same effect.\n",
      "\n",
      "  sns.barplot(x=category_sales.index, y=category_sales['Sales'], palette='coolwarm')\n"
     ]
    },
    {
     "data": {
      "image/png": "[encoded data removed]",
      "text/plain": [
       "<Figure size 800x500 with 1 Axes>"
      ]
     },
     "metadata": {},
     "output_type": "display_data"
    }
   ],
   "source": [
    "plt.figure(figsize=(8,5))\n",
    "sns.barplot(x=category_sales.index, y=category_sales['Sales'], palette='coolwarm')\n",
    "plt.title(\"Total Sales by Product Category\")\n",
    "plt.xlabel(\"Category\")\n",
    "plt.ylabel(\"Total Sales\")\n",
    "plt.show()\n"
   ]
  },
  {
   "cell_type": "code",
   "execution_count": 39,
   "id": "26949bb0-98a2-4764-8be8-03b79fad9275",
   "metadata": {},
   "outputs": [],
   "source": [
    "## Identify Top-performing regions"
   ]
  },
  {
   "cell_type": "code",
   "execution_count": 41,
   "id": "3ea3f071-f19e-47f6-8b19-4235d26cf86d",
   "metadata": {},
   "outputs": [
    {
     "name": "stdout",
     "output_type": "stream",
     "text": [
      "Top 3 Regions by Sales:\n",
      "          Sales  Profit\n",
      "Region                 \n",
      "West     725514  108386\n",
      "East     678834   91521\n",
      "Central  501256   39719\n"
     ]
    }
   ],
   "source": [
    "top_regions = region_sales.head(3)\n",
    "print(\"Top 3 Regions by Sales:\")\n",
    "print(top_regions)\n"
   ]
  },
  {
   "cell_type": "code",
   "execution_count": null,
   "id": "ebf35654-c406-48f7-be1d-14bfa3dd201c",
   "metadata": {},
   "outputs": [],
   "source": []
  }
 ],
 "metadata": {
  "kernelspec": {
   "display_name": "Python 3 (ipykernel)",
   "language": "python",
   "name": "python3"
  },
  "language_info": {
   "codemirror_mode": {
    "name": "ipython",
    "version": 3
   },
   "file_extension": ".py",
   "mimetype": "text/x-python",
   "name": "python",
   "nbconvert_exporter": "python",
   "pygments_lexer": "ipython3",
   "version": "3.12.7"
  }
 },
 "nbformat": 4,
 "nbformat_minor": 5
}
