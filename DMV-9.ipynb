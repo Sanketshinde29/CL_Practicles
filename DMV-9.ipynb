{
 "cells": [
  {
   "cell_type": "code",
   "execution_count": 41,
   "id": "29be6312-094a-48b6-951a-6f647ff1c5a0",
   "metadata": {},
   "outputs": [
    {
     "name": "stdout",
     "output_type": "stream",
     "text": [
      "   ORDERNUMBER  QUANTITYORDERED  PRICEEACH  ORDERLINENUMBER    SALES  \\\n",
      "0        10107               30      95.70                2  2871.00   \n",
      "1        10121               34      81.35                5  2765.90   \n",
      "2        10134               41      94.74                2  3884.34   \n",
      "3        10145               45      83.26                6  3746.70   \n",
      "4        10159               49     100.00               14  5205.27   \n",
      "\n",
      "         ORDERDATE   STATUS  QTR_ID  MONTH_ID  YEAR_ID  ...  \\\n",
      "0   2/24/2003 0:00  Shipped       1         2     2003  ...   \n",
      "1    5/7/2003 0:00  Shipped       2         5     2003  ...   \n",
      "2    7/1/2003 0:00  Shipped       3         7     2003  ...   \n",
      "3   8/25/2003 0:00  Shipped       3         8     2003  ...   \n",
      "4  10/10/2003 0:00  Shipped       4        10     2003  ...   \n",
      "\n",
      "                    ADDRESSLINE1  ADDRESSLINE2           CITY STATE  \\\n",
      "0        897 Long Airport Avenue           NaN            NYC    NY   \n",
      "1             59 rue de l'Abbaye           NaN          Reims   NaN   \n",
      "2  27 rue du Colonel Pierre Avia           NaN          Paris   NaN   \n",
      "3             78934 Hillside Dr.           NaN       Pasadena    CA   \n",
      "4                7734 Strong St.           NaN  San Francisco    CA   \n",
      "\n",
      "  POSTALCODE COUNTRY TERRITORY CONTACTLASTNAME CONTACTFIRSTNAME DEALSIZE  \n",
      "0      10022     USA       NaN              Yu             Kwai    Small  \n",
      "1      51100  France      EMEA         Henriot             Paul    Small  \n",
      "2      75508  France      EMEA        Da Cunha           Daniel   Medium  \n",
      "3      90003     USA       NaN           Young            Julie   Medium  \n",
      "4        NaN     USA       NaN           Brown            Julie   Medium  \n",
      "\n",
      "[5 rows x 25 columns]\n"
     ]
    }
   ],
   "source": [
    "import pandas as pd\n",
    "\n",
    "file_path = r\"C:/Users/sanke/Downloads/sales_data_sample.csv\"\n",
    "\n",
    "data = pd.read_csv(file_path, encoding='ISO-8859-1')  # or encoding='latin1'\n",
    "\n",
    "# Check first few rows\n",
    "print(data.head())\n"
   ]
  },
  {
   "cell_type": "markdown",
   "id": "bd649459-1171-4afe-9210-58c647cdd02d",
   "metadata": {},
   "source": [
    "## Data Cleaning\n"
   ]
  },
  {
   "cell_type": "code",
   "execution_count": 44,
   "id": "f9f64567-24e0-4f39-ad97-c8663badd239",
   "metadata": {},
   "outputs": [
    {
     "name": "stdout",
     "output_type": "stream",
     "text": [
      "ORDERNUMBER            0\n",
      "QUANTITYORDERED        0\n",
      "PRICEEACH              0\n",
      "ORDERLINENUMBER        0\n",
      "SALES                  0\n",
      "ORDERDATE              0\n",
      "STATUS                 0\n",
      "QTR_ID                 0\n",
      "MONTH_ID               0\n",
      "YEAR_ID                0\n",
      "PRODUCTLINE            0\n",
      "MSRP                   0\n",
      "PRODUCTCODE            0\n",
      "CUSTOMERNAME           0\n",
      "PHONE                  0\n",
      "ADDRESSLINE1           0\n",
      "ADDRESSLINE2        2521\n",
      "CITY                   0\n",
      "STATE               1486\n",
      "POSTALCODE            76\n",
      "COUNTRY                0\n",
      "TERRITORY           1074\n",
      "CONTACTLASTNAME        0\n",
      "CONTACTFIRSTNAME       0\n",
      "DEALSIZE               0\n",
      "dtype: int64\n"
     ]
    }
   ],
   "source": [
    "print(data.isnull().sum())\n"
   ]
  },
  {
   "cell_type": "markdown",
   "id": "70120da5-e841-4759-87de-952d598d7a33",
   "metadata": {},
   "source": [
    "## Remove Duplicates"
   ]
  },
  {
   "cell_type": "code",
   "execution_count": 47,
   "id": "b1c29057-7029-4c4b-b47b-120190cb4abf",
   "metadata": {},
   "outputs": [],
   "source": [
    "data = data.drop_duplicates()\n"
   ]
  },
  {
   "cell_type": "markdown",
   "id": "1871b799-470a-4201-b767-54551ddf6a14",
   "metadata": {},
   "source": [
    "## Handle Inconsistent Data "
   ]
  },
  {
   "cell_type": "code",
   "execution_count": 50,
   "id": "b972294e-8430-4cec-8787-bcae01aec13d",
   "metadata": {},
   "outputs": [],
   "source": [
    "data['PRODUCTLINE'] = data['PRODUCTLINE'].str.strip().str.upper()\n",
    "data['STATUS'] = data['STATUS'].str.strip().str.upper()\n"
   ]
  },
  {
   "cell_type": "markdown",
   "id": "1d51b18b-f1bc-4133-bea9-8af7b09144a0",
   "metadata": {},
   "source": [
    "## Handle outliers"
   ]
  },
  {
   "cell_type": "code",
   "execution_count": 53,
   "id": "bc36512c-f6fa-446a-a973-f7cc09b3fdf1",
   "metadata": {},
   "outputs": [],
   "source": [
    "numeric_cols = ['QUANTITYORDERED', 'PRICEEACH', 'SALES', 'MSRP']\n",
    "for col in numeric_cols:\n",
    "    Q1 = data[col].quantile(0.25)\n",
    "    Q3 = data[col].quantile(0.75)\n",
    "    IQR = Q3 - Q1\n",
    "    lower = Q1 - 1.5 * IQR\n",
    "    upper = Q3 + 1.5 * IQR\n",
    "    data = data[(data[col] >= lower) & (data[col] <= upper)]\n"
   ]
  },
  {
   "cell_type": "markdown",
   "id": "5b6c22e3-da0f-463a-ad48-cb35d88706de",
   "metadata": {},
   "source": [
    "## Feature Engineering"
   ]
  },
  {
   "cell_type": "code",
   "execution_count": null,
   "id": "ad6c6521-4a1d-419c-b60d-500d52148142",
   "metadata": {},
   "outputs": [],
   "source": [
    "# Total Sales per Order Line\n",
    "data['Total_Sales'] = data['QUANTITYORDERED'] * data['PRICEEACH']\n",
    "# Extract Date Features\n",
    "data['ORDERDATE'] = pd.to_datetime(data['ORDERDATE'])\n",
    "data['Year'] = data['ORDERDATE'].dt.year\n",
    "data['Month'] = data['ORDERDATE'].dt.month\n",
    "data['Quarter'] = data['ORDERDATE'].dt.quarter\n",
    "# Deal Size Encoding\n",
    "deal_mapping = {'Small': 1, 'Medium': 2, 'Large': 3}\n",
    "data['DEALSIZE_NUM'] = data['DEALSIZE'].map(deal_mapping)\n"
   ]
  }
 ],
 "metadata": {
  "kernelspec": {
   "display_name": "Python 3 (ipykernel)",
   "language": "python",
   "name": "python3"
  },
  "language_info": {
   "codemirror_mode": {
    "name": "ipython",
    "version": 3
   },
   "file_extension": ".py",
   "mimetype": "text/x-python",
   "name": "python",
   "nbconvert_exporter": "python",
   "pygments_lexer": "ipython3",
   "version": "3.12.7"
  }
 },
 "nbformat": 4,
 "nbformat_minor": 5
}
